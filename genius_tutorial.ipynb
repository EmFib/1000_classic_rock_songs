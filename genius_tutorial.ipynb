{
 "cells": [
  {
   "cell_type": "markdown",
   "metadata": {},
   "source": [
    "_**Using Genius.com API + Beautiful Soup to get song lyrics and write them to a local text file.**_\n",
    "\n",
    "Citation: https://medium.com/analytics-vidhya/how-to-scrape-song-lyrics-a-gentle-python-tutorial-5b1d4ab351d2\n",
    "\n",
    "Getting my Genius.com API key: https://docs.genius.com/#/getting-started-h1"
   ]
  },
  {
   "cell_type": "code",
   "execution_count": 7,
   "metadata": {},
   "outputs": [],
   "source": [
    "GENIUS_API_TOKEN='5la2M_pYH7rZ653TL8ulhRnTwi6Gyy7RfhKtK5wp0tcG3xilwiWfuhTSHni5keuP'"
   ]
  },
  {
   "cell_type": "code",
   "execution_count": 8,
   "metadata": {},
   "outputs": [],
   "source": [
    "# Make HTTP requests\n",
    "import requests\n",
    "\n",
    "# Scrape data from an HTML document\n",
    "from bs4 import BeautifulSoup\n",
    "\n",
    "# I/O\n",
    "import os\n",
    "\n",
    "# Search and manipulate strings\n",
    "import re"
   ]
  },
  {
   "cell_type": "markdown",
   "metadata": {},
   "source": [
    "1. Get a list of Genius.com URL’s for a specified number of songs for an artist"
   ]
  },
  {
   "cell_type": "code",
   "execution_count": 9,
   "metadata": {},
   "outputs": [],
   "source": [
    "# Get artist object from Genius API\n",
    "def request_artist_info(artist_name, page):\n",
    "    base_url = 'https://api.genius.com'\n",
    "    headers = {'Authorization': 'Bearer ' + GENIUS_API_TOKEN}\n",
    "    search_url = base_url + '/search?per_page=10&page=' + str(page)\n",
    "    data = {'q': artist_name}\n",
    "    response = requests.get(search_url, data=data, headers=headers)\n",
    "    return response\n",
    "\n",
    "# Get Genius.com song url's from artist object\n",
    "def request_song_url(artist_name, song_cap):\n",
    "    page = 1\n",
    "    songs = []\n",
    "    \n",
    "    while True:\n",
    "        response = request_artist_info(artist_name, page)\n",
    "        json = response.json()\n",
    "        # Collect up to song_cap song objects from artist\n",
    "        song_info = []\n",
    "        for hit in json['response']['hits']:\n",
    "            if artist_name.lower() in hit['result']['primary_artist']['name'].lower():\n",
    "                song_info.append(hit)\n",
    "    \n",
    "        # Collect song URL's from song objects\n",
    "        for song in song_info:\n",
    "            if (len(songs) < song_cap):\n",
    "                url = song['result']['url']\n",
    "                songs.append(url)\n",
    "            \n",
    "        if (len(songs) == song_cap):\n",
    "            break\n",
    "        else:\n",
    "            page += 1\n",
    "        \n",
    "    print('Found {} songs by {}'.format(len(songs), artist_name))\n",
    "    return songs\n",
    "    \n",
    "# DEMO\n",
    "# request_song_url('Lana Del Rey', 2)"
   ]
  },
  {
   "cell_type": "code",
   "execution_count": 10,
   "metadata": {},
   "outputs": [
    {
     "name": "stdout",
     "output_type": "stream",
     "text": [
      "Found 2 songs by Bob Dylan\n"
     ]
    },
    {
     "data": {
      "text/plain": [
       "['https://genius.com/Bob-dylan-murder-most-foul-lyrics',\n",
       " 'https://genius.com/Bob-dylan-blowin-in-the-wind-lyrics']"
      ]
     },
     "execution_count": 10,
     "metadata": {},
     "output_type": "execute_result"
    }
   ],
   "source": [
    "request_song_url('Bob Dylan', 2)"
   ]
  },
  {
   "cell_type": "markdown",
   "metadata": {},
   "source": [
    "2. Fetch lyrics from the URL’s\n"
   ]
  },
  {
   "cell_type": "code",
   "execution_count": 12,
   "metadata": {},
   "outputs": [],
   "source": [
    "# Scrape lyrics from a Genius.com song URL\n",
    "def scrape_song_lyrics(url):\n",
    "    page = requests.get(url)\n",
    "    html = BeautifulSoup(page.text, 'html.parser')\n",
    "    lyrics = html.find('div', class_='lyrics').get_text()\n",
    "    #remove identifiers like chorus, verse, etc\n",
    "    lyrics = re.sub(r'[\\(\\[].*?[\\)\\]]', '', lyrics)\n",
    "    #remove empty lines\n",
    "    lyrics = os.linesep.join([s for s in lyrics.splitlines() if s])         \n",
    "    return lyrics\n",
    "\n",
    "# DEMO\n",
    "# print(scrape_song_lyrics('https://genius.com/Lana-del-rey-young-and-beautiful-lyrics'))"
   ]
  },
  {
   "cell_type": "code",
   "execution_count": 13,
   "metadata": {
    "scrolled": true
   },
   "outputs": [
    {
     "data": {
      "text/plain": [
       "'\\'Twas a dark day in Dallas, November \\'63\\nA day that will live on in infamy\\nPresident\\u2005Kennedy\\u2005was a-ridin\\' high\\nGood\\u2005day to be livin\\' and a\\u2005good day to die\\nBeing led to the slaughter like a sacrificial lamb\\nHe said, \"Wait a minute, boys, you know who I am?\"\\n\"Of course we do, we know who you are\"\\nThen they blew off his head while he was still in the car\\nShot down like a dog in broad daylight\\nWas a matter of timing and the timing was right\\nYou got unpaid debts, we\\'ve come to collect\\nWe\\'re gonna kill you with hatred, without any respect\\nWe\\'ll mock you and shock you and we\\'ll grin in your face\\nWe\\'ve already got someone here to take your place\\nThe day they blew out the brains of the king\\nThousands were watching, no one saw a thing\\nIt happened so quickly, so quick, by surprise\\nRight there in front of everyone\\'s eyes\\nGreatest magic trick ever under the sun\\nPerfectly executed, skillfully done\\nWolfman, oh Wolfman, oh Wolfman, howl\\nRub-a-dub-dub, it\\'s a murder most foul\\nHush, little children, you\\'ll understand\\nThe Beatles are comin\\', they\\'re gonna hold your hand\\nSlide down the banister, go get your coat\\nFerry \\'cross the Mersey and go for the throat\\nThere\\'s three bums comin\\' all dressed in rags\\nPick up the pieces and lower the flags\\nI\\'m goin\\' to Woodstock, it\\'s the Aquarian Age\\nThen I\\'ll go over to Altamont and sit near the stage\\nPut your head out the window, let the good times roll\\nThere\\'s a party going on behind the Grassy Knoll\\nStack up the bricks, pour the cement\\nDon\\'t say Dallas don\\'t love you, Mr. President\\nPut your foot in the tank and then step on the gas\\nTry to make it to the triple underpass\\nBlackface singer, whiteface clown\\nBetter not show your faces after the sun goes down\\nUp in the red light district, like a cop on the beat\\nLiving in a nightmare on Elm Street\\nWhen you\\'re down on Deep Ellum, put your money in your shoe\\nDon\\'t ask what your country can do for you\\nCash on the barrelhead, money to burn\\nDealey Plaza, make a left-hand turn\\nI\\'m going down to the crossroads, gonna flag a ride\\nThe place where faith, hope, and charity died\\nShoot him while he runs, boy, shoot him while you can\\nSee if you can shoot the invisible man\\nGoodbye, Charlie, goodbye, Uncle Sam\\nFrankly, Miss Scarlett, I don\\'t give a damn\\nWhat is the truth, and where did it go?\\nAsk Oswald and Ruby, they oughta know\\n\"Shut your mouth,\" said a wise old owl\\nBusiness is business, and it\\'s a murder most foul\\nTommy, can you hear me? I\\'m the Acid Queen\\nI\\'m riding in a long, black Lincoln limousine\\nRidin\\' in the back seat next to my wife\\nHeaded straight on in to the afterlife\\nI\\'m leaning to the left, I got my head in her lap\\nOh Lord, I\\'ve been led into some kind of a trap\\nWhere we ask no quarter, and no quarter do we give\\nWe\\'re right down the street, from the street where you live\\nThey mutilated his body and they took out his brain\\nWhat more could they do? They piled on the pain\\nBut his soul was not there where it was supposed to be at\\nFor the last fifty years they\\'ve been searchin\\' for that\\nFreedom, oh freedom, freedom over me\\nI hate to tell you, mister, but only dead men are free\\nSend me some lovin\\', then tell me no lie\\nThrow the gun in the gutter and walk on by\\nWake up, little Susie, let\\'s go for a drive\\nCross the Trinity River, let\\'s keep hope alive\\nTurn the radio on, don\\'t touch the dials\\nParkland Hospital, only six more miles\\nYou got me dizzy, Miss Lizzy, you filled me with lead\\nThat magic bullet of yours has gone to my head\\nI\\'m just a patsy like Patsy Cline\\nNever shot anyone from in front or behind\\nI\\'ve blood in my eye, got blood in my ear\\nI\\'m never gonna make it to the new frontier\\nZapruder\\'s film, I\\'ve seen that before\\nSeen it thirty-three times, maybe more\\nIt\\'s vile and deceitful, it\\'s cruel and it\\'s mean\\nUgliest thing that you ever have seen\\nThey killed him once and they killed him twice\\nKilled him like a human sacrifice\\nThe day that they killed him, someone said to me, \"Son\\nThe age of the Antichrist has just only begun\"\\nAir Force One comin\\' in through the gate\\nJohnson sworn in at 2:38\\nLet me know when you decide to throw in the towel\\nIt is what it is, and it\\'s murder most foul\\nWhat\\'s new, pussycat? What\\'d I say?\\nI said the soul of a nation been torn away\\nAnd it\\'s beginning to go into a slow decay\\nAnd that it\\'s thirty-six hours past Judgment Day\\nWolfman Jack, he\\'s speaking in tongues\\nHe\\'s going on and on at the top of his lungs\\nPlay me a song, Mr. Wolfman Jack\\nPlay it for me in my long Cadillac\\nPlay me that \"Only the Good Die Young\"\\nTake me to the place Tom Dooley was hung\\nPlay \"St. James Infirmary\" in the Court of King James\\nIf you want to remember, you better write down the names\\nPlay Etta James, too, play \"I\\'d Rather Go Blind\"\\nPlay it for the man with the telepathic mind\\nPlay John Lee Hooker, play \"Scratch My Back\"\\nPlay it for that strip club owner named Jack\\nGuitar Slim going down slow\\nPlay it for me and for Marilyn Monroe\\nPlay \"Please Don\\'t Let Me Be Misunderstood\"\\nPlay it for the First Lady, she ain\\'t feeling any good\\nPlay Don Henley, play Glenn Frey\\nTake it to the limit and let it go by\\nPlay it for Carl Wilson, too\\nLooking far, far away down Gower Avenue\\nPlay \"Tragedy\", play \"Twilight Time\"\\nTake me back to Tulsa to the scene of the crime\\nPlay another one and \"Another One Bites the Dust\"\\nPlay \"The Old Rugged Cross\" and \"In God We Trust\"\\nRide the pink horse down that long, lonesome road\\nStand there and wait for his head to explode\\nPlay \"Mystery Train\" for Mr. Mystery\\nThe man who fell down dead like a rootless tree\\nPlay it for the reverend, play it for the pastor\\nPlay it for the dog that got no master\\nPlay Oscar Peterson, play Stan Getz\\nPlay \"Blue Sky,\" play Dickey Betts\\nPlay Art Pepper, Thelonious Monk\\nCharlie Parker and all that junk\\nAll that junk and \"All That Jazz\"\\nPlay something for the Birdman of Alcatraz\\nPlay Buster Keaton, play Harold Lloyd\\nPlay Bugsy Siegel, play Pretty Boy Floyd\\nPlay the numbers, play the odds\\nPlay \"Cry Me a River\" for the Lord of the gods\\nPlay Number nine, play Number six\\nPlay it for Lindsey and Stevie Nicks\\nPlay Nat King Cole, play \"Nature Boy\"\\nPlay \"Down in the Boondocks\" for Terry Malloy\\nPlay \"It Happened One Night\" and \"One Night of Sin\"\\nThere\\'s twelve million souls that are listening in\\nPlay \"Merchant of Venice\", play \"Merchants of Death\"\\nPlay \"Stella by Starlight\" for Lady Macbeth\\nDon\\'t worry, Mr. President, help\\'s on the way\\nYour brothers are comin\\', there\\'ll be hell to pay\\nBrothers? What brothers? What\\'s this about hell?\\nTell them, \"We\\'re waiting, keep coming,\" we\\'ll get them as well\\nLove Field is where his plane touched down\\nBut it never did get back up off the ground\\nWas a hard act to follow, second to none\\nThey killed him on the altar of the rising sun\\nPlay \"Misty\" for me and \"That Old Devil Moon\"\\nPlay \"Anything Goes\" and \"Memphis in June\"\\nPlay \"Lonely at the Top\" and \"Lonely Are the Brave\"\\nPlay it for Houdini spinning around in his grave\\nPlay Jelly Roll Morton, play \"Lucille\"\\nPlay \"Deep in a Dream\", and play \"Driving Wheel\"\\nPlay \"Moonlight Sonata\" in F-sharp\\nAnd \"A Key to the Highway\" for the king on the harp\\nPlay \"Marching Through Georgia\" and \"Dumbarton\\'s Drums\"\\nPlay \"Darkness\" and death will come when it comes\\nPlay \"Love Me or Leave Me\" by the great Bud Powell\\nPlay \"The Blood-Stained Banner\", play \"Murder Most Foul\"'"
      ]
     },
     "execution_count": 13,
     "metadata": {},
     "output_type": "execute_result"
    }
   ],
   "source": [
    "scrape_song_lyrics('https://genius.com/Bob-dylan-murder-most-foul-lyrics')"
   ]
  },
  {
   "cell_type": "code",
   "execution_count": 14,
   "metadata": {
    "scrolled": true
   },
   "outputs": [
    {
     "name": "stdout",
     "output_type": "stream",
     "text": [
      "'Twas a dark day in Dallas, November '63\n",
      "A day that will live on in infamy\n",
      "President Kennedy was a-ridin' high\n",
      "Good day to be livin' and a good day to die\n",
      "Being led to the slaughter like a sacrificial lamb\n",
      "He said, \"Wait a minute, boys, you know who I am?\"\n",
      "\"Of course we do, we know who you are\"\n",
      "Then they blew off his head while he was still in the car\n",
      "Shot down like a dog in broad daylight\n",
      "Was a matter of timing and the timing was right\n",
      "You got unpaid debts, we've come to collect\n",
      "We're gonna kill you with hatred, without any respect\n",
      "We'll mock you and shock you and we'll grin in your face\n",
      "We've already got someone here to take your place\n",
      "The day they blew out the brains of the king\n",
      "Thousands were watching, no one saw a thing\n",
      "It happened so quickly, so quick, by surprise\n",
      "Right there in front of everyone's eyes\n",
      "Greatest magic trick ever under the sun\n",
      "Perfectly executed, skillfully done\n",
      "Wolfman, oh Wolfman, oh Wolfman, howl\n",
      "Rub-a-dub-dub, it's a murder most foul\n",
      "Hush, little children, you'll understand\n",
      "The Beatles are comin', they're gonna hold your hand\n",
      "Slide down the banister, go get your coat\n",
      "Ferry 'cross the Mersey and go for the throat\n",
      "There's three bums comin' all dressed in rags\n",
      "Pick up the pieces and lower the flags\n",
      "I'm goin' to Woodstock, it's the Aquarian Age\n",
      "Then I'll go over to Altamont and sit near the stage\n",
      "Put your head out the window, let the good times roll\n",
      "There's a party going on behind the Grassy Knoll\n",
      "Stack up the bricks, pour the cement\n",
      "Don't say Dallas don't love you, Mr. President\n",
      "Put your foot in the tank and then step on the gas\n",
      "Try to make it to the triple underpass\n",
      "Blackface singer, whiteface clown\n",
      "Better not show your faces after the sun goes down\n",
      "Up in the red light district, like a cop on the beat\n",
      "Living in a nightmare on Elm Street\n",
      "When you're down on Deep Ellum, put your money in your shoe\n",
      "Don't ask what your country can do for you\n",
      "Cash on the barrelhead, money to burn\n",
      "Dealey Plaza, make a left-hand turn\n",
      "I'm going down to the crossroads, gonna flag a ride\n",
      "The place where faith, hope, and charity died\n",
      "Shoot him while he runs, boy, shoot him while you can\n",
      "See if you can shoot the invisible man\n",
      "Goodbye, Charlie, goodbye, Uncle Sam\n",
      "Frankly, Miss Scarlett, I don't give a damn\n",
      "What is the truth, and where did it go?\n",
      "Ask Oswald and Ruby, they oughta know\n",
      "\"Shut your mouth,\" said a wise old owl\n",
      "Business is business, and it's a murder most foul\n",
      "Tommy, can you hear me? I'm the Acid Queen\n",
      "I'm riding in a long, black Lincoln limousine\n",
      "Ridin' in the back seat next to my wife\n",
      "Headed straight on in to the afterlife\n",
      "I'm leaning to the left, I got my head in her lap\n",
      "Oh Lord, I've been led into some kind of a trap\n",
      "Where we ask no quarter, and no quarter do we give\n",
      "We're right down the street, from the street where you live\n",
      "They mutilated his body and they took out his brain\n",
      "What more could they do? They piled on the pain\n",
      "But his soul was not there where it was supposed to be at\n",
      "For the last fifty years they've been searchin' for that\n",
      "Freedom, oh freedom, freedom over me\n",
      "I hate to tell you, mister, but only dead men are free\n",
      "Send me some lovin', then tell me no lie\n",
      "Throw the gun in the gutter and walk on by\n",
      "Wake up, little Susie, let's go for a drive\n",
      "Cross the Trinity River, let's keep hope alive\n",
      "Turn the radio on, don't touch the dials\n",
      "Parkland Hospital, only six more miles\n",
      "You got me dizzy, Miss Lizzy, you filled me with lead\n",
      "That magic bullet of yours has gone to my head\n",
      "I'm just a patsy like Patsy Cline\n",
      "Never shot anyone from in front or behind\n",
      "I've blood in my eye, got blood in my ear\n",
      "I'm never gonna make it to the new frontier\n",
      "Zapruder's film, I've seen that before\n",
      "Seen it thirty-three times, maybe more\n",
      "It's vile and deceitful, it's cruel and it's mean\n",
      "Ugliest thing that you ever have seen\n",
      "They killed him once and they killed him twice\n",
      "Killed him like a human sacrifice\n",
      "The day that they killed him, someone said to me, \"Son\n",
      "The age of the Antichrist has just only begun\"\n",
      "Air Force One comin' in through the gate\n",
      "Johnson sworn in at 2:38\n",
      "Let me know when you decide to throw in the towel\n",
      "It is what it is, and it's murder most foul\n",
      "What's new, pussycat? What'd I say?\n",
      "I said the soul of a nation been torn away\n",
      "And it's beginning to go into a slow decay\n",
      "And that it's thirty-six hours past Judgment Day\n",
      "Wolfman Jack, he's speaking in tongues\n",
      "He's going on and on at the top of his lungs\n",
      "Play me a song, Mr. Wolfman Jack\n",
      "Play it for me in my long Cadillac\n",
      "Play me that \"Only the Good Die Young\"\n",
      "Take me to the place Tom Dooley was hung\n",
      "Play \"St. James Infirmary\" in the Court of King James\n",
      "If you want to remember, you better write down the names\n",
      "Play Etta James, too, play \"I'd Rather Go Blind\"\n",
      "Play it for the man with the telepathic mind\n",
      "Play John Lee Hooker, play \"Scratch My Back\"\n",
      "Play it for that strip club owner named Jack\n",
      "Guitar Slim going down slow\n",
      "Play it for me and for Marilyn Monroe\n",
      "Play \"Please Don't Let Me Be Misunderstood\"\n",
      "Play it for the First Lady, she ain't feeling any good\n",
      "Play Don Henley, play Glenn Frey\n",
      "Take it to the limit and let it go by\n",
      "Play it for Carl Wilson, too\n",
      "Looking far, far away down Gower Avenue\n",
      "Play \"Tragedy\", play \"Twilight Time\"\n",
      "Take me back to Tulsa to the scene of the crime\n",
      "Play another one and \"Another One Bites the Dust\"\n",
      "Play \"The Old Rugged Cross\" and \"In God We Trust\"\n",
      "Ride the pink horse down that long, lonesome road\n",
      "Stand there and wait for his head to explode\n",
      "Play \"Mystery Train\" for Mr. Mystery\n",
      "The man who fell down dead like a rootless tree\n",
      "Play it for the reverend, play it for the pastor\n",
      "Play it for the dog that got no master\n",
      "Play Oscar Peterson, play Stan Getz\n",
      "Play \"Blue Sky,\" play Dickey Betts\n",
      "Play Art Pepper, Thelonious Monk\n",
      "Charlie Parker and all that junk\n",
      "All that junk and \"All That Jazz\"\n",
      "Play something for the Birdman of Alcatraz\n",
      "Play Buster Keaton, play Harold Lloyd\n",
      "Play Bugsy Siegel, play Pretty Boy Floyd\n",
      "Play the numbers, play the odds\n",
      "Play \"Cry Me a River\" for the Lord of the gods\n",
      "Play Number nine, play Number six\n",
      "Play it for Lindsey and Stevie Nicks\n",
      "Play Nat King Cole, play \"Nature Boy\"\n",
      "Play \"Down in the Boondocks\" for Terry Malloy\n",
      "Play \"It Happened One Night\" and \"One Night of Sin\"\n",
      "There's twelve million souls that are listening in\n",
      "Play \"Merchant of Venice\", play \"Merchants of Death\"\n",
      "Play \"Stella by Starlight\" for Lady Macbeth\n",
      "Don't worry, Mr. President, help's on the way\n",
      "Your brothers are comin', there'll be hell to pay\n",
      "Brothers? What brothers? What's this about hell?\n",
      "Tell them, \"We're waiting, keep coming,\" we'll get them as well\n",
      "Love Field is where his plane touched down\n",
      "But it never did get back up off the ground\n",
      "Was a hard act to follow, second to none\n",
      "They killed him on the altar of the rising sun\n",
      "Play \"Misty\" for me and \"That Old Devil Moon\"\n",
      "Play \"Anything Goes\" and \"Memphis in June\"\n",
      "Play \"Lonely at the Top\" and \"Lonely Are the Brave\"\n",
      "Play it for Houdini spinning around in his grave\n",
      "Play Jelly Roll Morton, play \"Lucille\"\n",
      "Play \"Deep in a Dream\", and play \"Driving Wheel\"\n",
      "Play \"Moonlight Sonata\" in F-sharp\n",
      "And \"A Key to the Highway\" for the king on the harp\n",
      "Play \"Marching Through Georgia\" and \"Dumbarton's Drums\"\n",
      "Play \"Darkness\" and death will come when it comes\n",
      "Play \"Love Me or Leave Me\" by the great Bud Powell\n",
      "Play \"The Blood-Stained Banner\", play \"Murder Most Foul\"\n"
     ]
    }
   ],
   "source": [
    "# trying print view instead of returning as above\n",
    "\n",
    "print (scrape_song_lyrics('https://genius.com/Bob-dylan-murder-most-foul-lyrics'))"
   ]
  },
  {
   "cell_type": "markdown",
   "metadata": {},
   "source": [
    "3. Loop through all URL’s and write lyrics to one file\n"
   ]
  },
  {
   "cell_type": "code",
   "execution_count": 22,
   "metadata": {},
   "outputs": [],
   "source": [
    "def write_lyrics_to_file(artist_name, song_count):\n",
    "    f = open('lyrics/' + artist_name.lower() + '.txt', 'wb')\n",
    "    urls = request_song_url(artist_name, song_count)\n",
    "    for url in urls:\n",
    "        lyrics = scrape_song_lyrics(url)\n",
    "        f.write(lyrics.encode(\"utf8\"))\n",
    "    f.close()\n",
    "    num_lines = sum(1 for line in open('lyrics/' + artist_name.lower() + '.txt', 'rb'))\n",
    "    print('Wrote {} lines to file from {} songs'.format(num_lines, song_count))\n",
    "  \n",
    "# DEMO  \n",
    "# write_lyrics_to_file('Kendrick Lamar', 100)"
   ]
  },
  {
   "cell_type": "code",
   "execution_count": 24,
   "metadata": {},
   "outputs": [
    {
     "name": "stdout",
     "output_type": "stream",
     "text": [
      "Found 500 songs by Bob Dylan\n",
      "Wrote 18015 lines to file from 500 songs\n"
     ]
    }
   ],
   "source": [
    "write_lyrics_to_file('Bob Dylan', 500)"
   ]
  },
  {
   "cell_type": "code",
   "execution_count": null,
   "metadata": {},
   "outputs": [],
   "source": []
  }
 ],
 "metadata": {
  "kernelspec": {
   "display_name": "Python 3",
   "language": "python",
   "name": "python3"
  },
  "language_info": {
   "codemirror_mode": {
    "name": "ipython",
    "version": 3
   },
   "file_extension": ".py",
   "mimetype": "text/x-python",
   "name": "python",
   "nbconvert_exporter": "python",
   "pygments_lexer": "ipython3",
   "version": "3.8.5"
  }
 },
 "nbformat": 4,
 "nbformat_minor": 4
}
